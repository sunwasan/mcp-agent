{
 "cells": [
  {
   "cell_type": "code",
   "execution_count": 15,
   "id": "348edc39",
   "metadata": {},
   "outputs": [
    {
     "name": "stdout",
     "output_type": "stream",
     "text": [
      "Libraries imported.\n"
     ]
    }
   ],
   "source": [
    "# @title Import necessary libraries\n",
    "import os\n",
    "import asyncio\n",
    "from google.adk.agents import Agent, LlmAgent, BaseAgent\n",
    "from google.adk.models.lite_llm import LiteLlm # For multi-model support\n",
    "from google.adk.sessions import InMemorySessionService\n",
    "from google.adk.runners import Runner\n",
    "from google.adk.tools import google_search\n",
    "from google.genai import types # For creating message Content/Parts\n",
    "import warnings\n",
    "from dotenv import load_dotenv\n",
    "\n",
    "load_dotenv()\n",
    "# Ignore all warnings\n",
    "warnings.filterwarnings(\"ignore\")\n",
    "\n",
    "import logging\n",
    "logging.basicConfig(level=logging.ERROR)\n",
    "\n",
    "GOOGLE_API_KEY = os.getenv(\"GEMINI_API_KEY\")\n",
    "os.environ[\"GOOGLE_API_KEY\"] = GOOGLE_API_KEY\n",
    "print(\"Libraries imported.\")"
   ]
  },
  {
   "cell_type": "code",
   "execution_count": 16,
   "id": "e7ac5629",
   "metadata": {},
   "outputs": [],
   "source": [
    "from python.tools.craw4ai import crawl\n",
    "from python.tools.webscraper import web_grounding"
   ]
  },
  {
   "cell_type": "code",
   "execution_count": 17,
   "id": "f583b668",
   "metadata": {},
   "outputs": [],
   "source": [
    "search_agent = Agent(\n",
    "    name=\"search_agent\",\n",
    "    model= 'gemini-2.0-flash',\n",
    "    instruction=    \"Gather the most relevant information from the web and summarize it. \"\n",
    "                    \"You can use the following tools to help you with this task: \"\n",
    "                    \"- Use the `web_grounding(query:str)` tool to search anything on the web.\"\n",
    "                    \"- Use the `crawl(url:str)` tool to crawl a website and extract information from it.\"\n",
    "                    \"You need to crawl the website to get the information you need.\"\n",
    "                    \"Not only from web_grounding.\"\n",
    "                    \"You can use each tool multiple times.\"\n",
    "                    \"You can also use the tools in any order you want.\"\n",
    "    ,\n",
    "    description=\"A search agent that uses tools to find analyse and summarize information.\",\n",
    "    tools=[web_grounding, crawl],\n",
    ")"
   ]
  },
  {
   "cell_type": "code",
   "execution_count": 18,
   "id": "e7731fd7",
   "metadata": {},
   "outputs": [
    {
     "name": "stdout",
     "output_type": "stream",
     "text": [
      "Session created: App='test_app', User='user_1', Session='session_001'\n",
      "Runner created for agent 'search_agent'.\n"
     ]
    }
   ],
   "source": [
    "session_service = InMemorySessionService()\n",
    "APP_NAME = \"test_app\"\n",
    "USER_ID = \"user_1\"\n",
    "SESSION_ID = \"session_001\" # Using a fixed ID for simplicity\n",
    "\n",
    "session = session_service.create_session(\n",
    "    app_name=APP_NAME,\n",
    "    user_id=USER_ID,\n",
    "    session_id=SESSION_ID\n",
    ")\n",
    "\n",
    "print(f\"Session created: App='{APP_NAME}', User='{USER_ID}', Session='{SESSION_ID}'\")\n",
    "\n",
    "# --- Runner ---\n",
    "# Key Concept: Runner orchestrates the agent execution loop.\n",
    "runner = Runner(\n",
    "    agent=search_agent, # The agent we want to run\n",
    "    app_name=APP_NAME,   # Associates runs with our app\n",
    "    session_service=session_service # Uses our session manager\n",
    ")\n",
    "print(f\"Runner created for agent '{runner.agent.name}'.\")"
   ]
  },
  {
   "cell_type": "code",
   "execution_count": 19,
   "id": "98e16ad0",
   "metadata": {},
   "outputs": [],
   "source": [
    "def call_agent(query):\n",
    "    content = types.Content(role='user', parts=[types.Part(text=query)])\n",
    "    events = runner.run(user_id=USER_ID, session_id=SESSION_ID, new_message=content)\n",
    "\n",
    "    for event in events:\n",
    "        if event.get_function_calls:\n",
    "            calls = event.get_function_calls()\n",
    "            if calls:\n",
    "                for call in calls:\n",
    "                    tool_name = call.name\n",
    "                    arguments = call.args # This is usually a dictionary\n",
    "                    print(f\"  Tool: {tool_name}, Args: {arguments}\")\n",
    "                    # Application might dispatch execution based on this\n",
    "    \n",
    "        if event.is_final_response():\n",
    "            final_response = event.content.parts[0].text\n",
    "            # print(final_response)\n",
    "            return final_response"
   ]
  },
  {
   "cell_type": "code",
   "execution_count": 20,
   "id": "476016df",
   "metadata": {},
   "outputs": [
    {
     "name": "stdout",
     "output_type": "stream",
     "text": [
      "  Tool: web_grounding, Args: {'query': 'best value stocks Thailand stock exchange'}\n",
      "  Tool: crawl, Args: {'url': 'https://www.bangkokpost.com/business/investment/2970028/kcs-picks-12-promising-thai-stocks-amid-slump'}\n",
      "[INIT].... → Crawl4AI 0.6.2\n",
      "[FETCH]... ↓ https://www.bangkokpost.com/business/investment/...28/kcs-picks-12-promising-thai-stocks-amid-slump  | ✓ | ⏱: 2.52s\n",
      "[SCRAPE].. ◆ https://www.bangkokpost.com/business/investment/...28/kcs-picks-12-promising-thai-stocks-amid-slump  | ✓ | ⏱: 0.17s\n",
      "[COMPLETE] ● https://www.bangkokpost.com/business/investment/...28/kcs-picks-12-promising-thai-stocks-amid-slump  | ✓ | ⏱: 2.71s\n",
      "  Tool: crawl, Args: {'url': 'https://www.nationthailand.com/blogs/business/trading-investment/40044586'}\n",
      "[INIT].... → Crawl4AI 0.6.2\n",
      "[FETCH]... ↓ https://www.nationthailand.com/blogs/business/trading-investment/40044586                            | ✓ | ⏱: 5.20s\n",
      "[SCRAPE].. ◆ https://www.nationthailand.com/blogs/business/trading-investment/40044586                            | ✓ | ⏱: 0.14s\n",
      "[COMPLETE] ● https://www.nationthailand.com/blogs/business/trading-investment/40044586                            | ✓ | ⏱: 5.37s\n"
     ]
    }
   ],
   "source": [
    "query = \"Pick one good financial health with cheap price stock to invest in thailand now.\"\n",
    "r = call_agent(query)"
   ]
  },
  {
   "cell_type": "code",
   "execution_count": 21,
   "id": "1d982f5e",
   "metadata": {},
   "outputs": [
    {
     "name": "stdout",
     "output_type": "stream",
     "text": [
      "Response from agent:\n",
      "The Nation Thailand article lists the 10 SET100 stocks that provided the highest dividend yields in 2024:\n",
      "\n",
      "1.  Jasmine International Pcl (JAS)\n",
      "2.  SCB X Pcl (SCB)\n",
      "3.  Tipco Asphalt Pcl (TASCO)\n",
      "4.  Thanachart Capital Pcl (TCAP)\n",
      "5.  Kiatnakin Phatra Bank Pcl (KKP)\n",
      "6.  Sri Trang Agro-Industry Pcl (STA)\n",
      "7.  TMBThanachart Bank Pcl (TTB)\n",
      "8.  Sri Trang Gloves (Thailand) Pcl (STGT)\n",
      "9.  Thai Life Insurance Pcl (TLI)\n",
      "10. Bangkok Airways Pcl (BA)\n",
      "\n",
      "The article also notes that dividend-paying stocks, particularly in the banking sector, continue to offer attractive yields. It specifically mentions Sansiri Pcl (SIRI) and Land and Houses Pcl (LH) as luxury real estate projects performing well and providing decent dividends. Electricity Generating Pcl (EGCO) and Ratch Group Pcl (RATCH) are mentioned for their high dividend yields and relatively low prices.\n",
      "\n",
      "**Summary:**\n",
      "\n",
      "Based on the crawled articles, several stocks were mentioned as potentially good investments:\n",
      "\n",
      "*   **From Bangkok Post/KCS:** CPALL, BDMS, INT, BH, GPSC, SCGP, HMPRO, KBANK, KTB, BBL, AP, SIRI\n",
      "*   **From The Nation Thailand:** JAS, SCB, TASCO, TCAP, KKP, STA, TTB, STGT, TLI, BA, SIRI, LH, EGCO, RATCH\n",
      "\n",
      "To determine which might be a *cheap* stock, it would be helpful to have current pricing information. I also can't assess your personal risk tolerance or investment goals. However, the articles suggest considering banking sector stocks, certain power plant stocks (EGCO, RATCH), and real estate (SIRI, LH) as potentially offering value and dividends.\n",
      "\n",
      "**Recommendation:**\n",
      "\n",
      "Before investing in any stock, I strongly recommend you:\n",
      "\n",
      "1.  **Do your own research:** Look up the current stock prices, financial statements, and analyst reports for the companies listed above.\n",
      "2.  **Consider your investment goals and risk tolerance:** Are you looking for long-term growth, income, or a combination of both? How much risk are you willing to take?\n",
      "3.  **Consult with a qualified financial advisor:** A financial advisor can help you assess your individual needs and recommend investments that are appropriate for you.\n",
      "\n"
     ]
    }
   ],
   "source": [
    "print(\"Response from agent:\")\n",
    "print(r)"
   ]
  }
 ],
 "metadata": {
  "kernelspec": {
   "display_name": ".venv",
   "language": "python",
   "name": "python3"
  },
  "language_info": {
   "codemirror_mode": {
    "name": "ipython",
    "version": 3
   },
   "file_extension": ".py",
   "mimetype": "text/x-python",
   "name": "python",
   "nbconvert_exporter": "python",
   "pygments_lexer": "ipython3",
   "version": "3.12.2"
  }
 },
 "nbformat": 4,
 "nbformat_minor": 5
}
