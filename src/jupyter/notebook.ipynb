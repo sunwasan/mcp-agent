{
 "cells": [
  {
   "cell_type": "code",
   "execution_count": 1,
   "id": "02c98f03",
   "metadata": {},
   "outputs": [],
   "source": [
    "import os\n",
    "import asyncio\n",
    "from google.adk.sessions import InMemorySessionService\n",
    "from google.adk.runners import Runner\n",
    "from google.genai import types # For creating message Content/Parts\n"
   ]
  },
  {
   "cell_type": "code",
   "execution_count": 2,
   "id": "434ae822",
   "metadata": {},
   "outputs": [
    {
     "name": "stdout",
     "output_type": "stream",
     "text": [
      "Libraries imported.\n",
      "Libraries imported.\n"
     ]
    }
   ],
   "source": [
    "from python.agents.analyst_agent import analyst_agent"
   ]
  },
  {
   "cell_type": "code",
   "execution_count": 3,
   "id": "e140ea34",
   "metadata": {},
   "outputs": [
    {
     "name": "stdout",
     "output_type": "stream",
     "text": [
      "Session created: App='test_app', User='user_1', Session='session_001'\n",
      "Runner created for agent 'analyst_agent'.\n"
     ]
    }
   ],
   "source": [
    "session_service = InMemorySessionService()\n",
    "APP_NAME = \"test_app\"\n",
    "USER_ID = \"user_1\"\n",
    "SESSION_ID = \"session_001\" # Using a fixed ID for simplicity\n",
    "\n",
    "session = session_service.create_session(\n",
    "    app_name=APP_NAME,\n",
    "    user_id=USER_ID,\n",
    "    session_id=SESSION_ID\n",
    ")\n",
    "\n",
    "print(f\"Session created: App='{APP_NAME}', User='{USER_ID}', Session='{SESSION_ID}'\")\n",
    "\n",
    "# --- Runner ---\n",
    "# Key Concept: Runner orchestrates the agent execution loop.\n",
    "runner = Runner(\n",
    "    agent=analyst_agent, # The agent we want to run\n",
    "    app_name=APP_NAME,   # Associates runs with our app\n",
    "    session_service=session_service # Uses our session manager\n",
    ")\n",
    "print(f\"Runner created for agent '{runner.agent.name}'.\")"
   ]
  },
  {
   "cell_type": "code",
   "execution_count": 4,
   "id": "2c1cb1c2",
   "metadata": {},
   "outputs": [],
   "source": [
    "def call_agent(query):\n",
    "    content = types.Content(role='user', parts=[types.Part(text=query)])\n",
    "    events = runner.run(user_id=USER_ID, session_id=SESSION_ID, new_message=content)\n",
    "\n",
    "    for event in events:\n",
    "        if event.get_function_calls:\n",
    "            calls = event.get_function_calls()\n",
    "            if calls:\n",
    "                for call in calls:\n",
    "                    tool_name = call.name\n",
    "                    arguments = call.args # This is usually a dictionary\n",
    "                    print(f\"  Tool: {tool_name}, Args: {arguments}\")\n",
    "                    # Application might dispatch execution based on this\n",
    "    \n",
    "        if event.is_final_response():\n",
    "            final_response = event.content.parts[0].text\n",
    "            # print(final_response)\n",
    "            return final_response"
   ]
  },
  {
   "cell_type": "code",
   "execution_count": null,
   "id": "078874ec",
   "metadata": {},
   "outputs": [
    {
     "name": "stdout",
     "output_type": "stream",
     "text": [
      "  Tool: transfer_to_agent, Args: {'agent_name': 'search_agent'}\n",
      "  Tool: web_grounding, Args: {'query': 'ข่าวเศรษฐกิจล่าสุดประจำสัปดาห์นี้ (29 เมษายน - 6 พฤษภาคม 2568)'}\n",
      "  Tool: web_grounding, Args: {'query': 'ผลกระทบของข่าวเศรษฐกิจต่อตลาดหุ้นไทย สัปดาห์นี้ (29 เมษายน - 6 พฤษภาคม 2568)'}\n",
      "  Tool: web_grounding, Args: {'query': 'หุ้นที่คาดว่าจะได้ประโยชน์จากข่าวเศรษฐกิจล่าสุด (29 เมษายน - 6 พฤษภาคม 2568)'}\n",
      "  Tool: web_grounding, Args: {'query': 'หุ้นที่คาดว่าจะเสียประโยชน์จากข่าวเศรษฐกิจล่าสุด (29 เมษายน - 6 พฤษภาคม 2568)'}\n",
      "  Tool: web_grounding, Args: {'query': 'บทวิเคราะห์ตลาดหุ้นไทยล่าสุดประจำสัปดาห์นี้ (29 เมษายน - 6 พฤษภาคม 2568)'}\n",
      "  Tool: crawl, Args: {'url': 'https://www.krungsri.com/th/research/macroeconomic/weekly/20250506'}\n",
      "  Tool: crawl, Args: {'url': 'https://www.bangkokbiznews.com/finance/stock/1154343'}\n",
      "  Tool: crawl, Args: {'url': 'https://www.kaohoon.com/news/685700'}\n",
      "[INIT].... → Crawl4AI 0.6.2\n",
      "[FETCH]... ↓ https://www.krungsri.com/th/research/macroeconomic/weekly/20250506                                   | ✓ | ⏱: 3.11s\n",
      "[SCRAPE].. ◆ https://www.krungsri.com/th/research/macroeconomic/weekly/20250506                                   | ✓ | ⏱: 0.32s\n",
      "[COMPLETE] ● https://www.krungsri.com/th/research/macroeconomic/weekly/20250506                                   | ✓ | ⏱: 3.45s\n",
      "[INIT].... → Crawl4AI 0.6.2\n",
      "[FETCH]... ↓ https://www.bangkokbiznews.com/finance/stock/1154343                                                 | ✓ | ⏱: 4.51s\n",
      "[SCRAPE].. ◆ https://www.bangkokbiznews.com/finance/stock/1154343                                                 | ✓ | ⏱: 0.10s\n",
      "[COMPLETE] ● https://www.bangkokbiznews.com/finance/stock/1154343                                                 | ✓ | ⏱: 4.63s\n",
      "[INIT].... → Crawl4AI 0.6.2\n",
      "[FETCH]... ↓ https://www.kaohoon.com/news/685700                                                                  | ✓ | ⏱: 4.27s\n",
      "[SCRAPE].. ◆ https://www.kaohoon.com/news/685700                                                                  | ✓ | ⏱: 0.14s\n",
      "[COMPLETE] ● https://www.kaohoon.com/news/685700                                                                  | ✓ | ⏱: 4.42s\n"
     ]
    }
   ],
   "source": [
    "query = \"จากข่าวเศรษฐกิจล่าสุด หุ้นตัวไหนได้ประโยชน์ และ หุ้นตัวไหนเสียประโยชน์\"\n",
    "r_1 = call_agent(query)"
   ]
  },
  {
   "cell_type": "code",
   "execution_count": null,
   "id": "c53d5204",
   "metadata": {},
   "outputs": [
    {
     "name": "stdout",
     "output_type": "stream",
     "text": [
      "Response: จากการรวบรวมข้อมูลและวิเคราะห์จากแหล่งต่างๆ สรุปได้ดังนี้:\n",
      "\n",
      "**ภาพรวมเศรษฐกิจและตลาดหุ้น:**\n",
      "\n",
      "*   **ความเสี่ยงขาลงของเศรษฐกิจไทยเพิ่มขึ้น:** หลายสถาบันปรับลดคาดการณ์ GDP ปี 2568 ลงใกล้ระดับ 2% กนง. ปรับลดดอกเบี้ยนโยบายต่อเนื่องสู่ระดับ 1.75% และมีสัญญาณอาจผ่อนคลายต่อเนื่องขึ้นอยู่กับความคืบหน้าของการเจรจาการค้า\n",
      "*   **SET Index ผันผวน:** ตลาดหุ้นไทยยังคงมีความผันผวนและถูกกดดันจากปัจจัยภายนอก เช่น นโยบายการค้าของสหรัฐฯ\n",
      "*   **เน้นลงทุนรายตัว:** สำนักวิจัยทิสโก้แนะนำให้พิจารณาลงทุนในหุ้นรายตัวมากกว่าดูที่ระดับ SET Index เนื่องจากภาพรวมตลาดอาจบิดเบือนจากความเป็นจริง\n",
      "\n",
      "**หุ้นที่คาดว่าจะได้ประโยชน์:**\n",
      "\n",
      "*   **หุ้นที่ได้ประโยชน์จากบาทอ่อนค่า:**\n",
      "*   **หุ้นพื้นฐานดีขนาดใหญ่:** ที่คาดว่าจะเป็นเป้าเม็ดเงินกองทุนลดหย่อนภาษี (TESG) ไหลเข้าปลายปี\n",
      "*   **กลุ่มนิคมอุตสาหกรรม:** AMATA และ WHA (หากแนวโน้มการกีดกันทางการค้าเพิ่มสูงขึ้น)\n",
      "*    **กลุ่มเดินเรือ** TTA, PSL, RCL\n",
      "*   **กลุ่มพลังงาน** PTTEP, BANPU\n",
      "*   **กลุ่มโรงพยาบาล** BDMS\n",
      "\n",
      "**หุ้นที่คาดว่าจะเสียประโยชน์:**\n",
      "\n",
      "*   **กลุ่มส่งออก**\n",
      "*   **กลุ่มชิ้นส่วนอิเล็กทรอนิกส์**\n",
      "*   **กลุ่มพลังงานทดแทน**\n",
      "*   **กลุ่มเทคโนโลยี**\n",
      "\n",
      "**ปัจจัยที่ต้องติดตาม:**\n",
      "\n",
      "*   **นโยบายการค้าของสหรัฐฯ:** โดยเฉพาะผลกระทบจากการขึ้นภาษีนำเข้า\n",
      "*   **การเจรจาการค้าระหว่างประเทศ:** ความคืบหน้าของการเจรจาการค้าจะส่งผลต่อแนวโน้มเศรษฐกิจไทย\n",
      "*   **การประชุมธนาคารกลางสหรัฐ (เฟด):** การตัดสินใจเกี่ยวกับอัตราดอกเบี้ยนโยบาย\n",
      "*   **มาตรการกระตุ้นเศรษฐกิจของรัฐบาล:** คาดหวังเชิงบวกจากมาตรการกระตุ้นเศรษฐกิจที่จะเกิดขึ้น\n",
      "\n",
      "**คำแนะนำเพิ่มเติม:**\n",
      "\n",
      "*   นักลงทุนควรติดตามข่าวสารและบทวิเคราะห์อย่างใกล้ชิดเพื่อปรับกลยุทธ์การลงทุนให้เหมาะสมกับสถานการณ์\n",
      "*   การลงทุนในหุ้นรายตัวควรพิจารณาจากปัจจัยพื้นฐานของบริษัทและความสามารถในการทำกำไร\n",
      "*   ควรระมัดระวังการลงทุนในหุ้นกลุ่มที่คาดว่าจะได้รับผลกระทบเชิงลบจากสถานการณ์เศรษฐกิจ\n",
      "\n",
      "**ข้อจำกัด:**\n",
      "\n",
      "*   ข้อมูลนี้เป็นการสรุปจากแหล่งข้อมูลที่มีอยู่ ณ วันที่ 6 พฤษภาคม 2568 ซึ่งอาจมีการเปลี่ยนแปลงได้ในอนาคต\n",
      "*   การคาดการณ์เกี่ยวกับหุ้นที่ได้ประโยชน์และเสียประโยชน์เป็นเพียงการวิเคราะห์เบื้องต้น ควรพิจารณาปัจจัยอื่นๆ เพิ่มเติมก่อนตัดสินใจลงทุน\n",
      "\n"
     ]
    }
   ],
   "source": [
    "print(f\"Response: {r_1}\")"
   ]
  },
  {
   "cell_type": "code",
   "execution_count": null,
   "id": "2bf7ab6a",
   "metadata": {},
   "outputs": [],
   "source": [
    "query = \"อธิบายเหตุผลที่หุ้นแต่ละกลุ่มนี้ได้ประโยชน์ และเสียประโยชน์จากข่าวเศรษฐกิจล่าสุด\"\n",
    "r_2 = call_agent(query)\n"
   ]
  },
  {
   "cell_type": "code",
   "execution_count": null,
   "id": "74c5cb0c",
   "metadata": {},
   "outputs": [
    {
     "name": "stdout",
     "output_type": "stream",
     "text": [
      "Response: จากข้อมูลที่ได้รวบรวมมา สามารถอธิบายเหตุผลที่หุ้นแต่ละกลุ่มได้ประโยชน์และเสียประโยชน์จากข่าวเศรษฐกิจล่าสุด (อัปเดต ณ วันที่ 6 พฤษภาคม 2568) ได้ดังนี้:\n",
      "\n",
      "**หุ้นที่คาดว่าจะได้ประโยชน์:**\n",
      "\n",
      "*   **หุ้นที่ได้ประโยชน์จากบาทอ่อนค่า:**\n",
      "    *   **เหตุผล:** ค่าเงินบาทที่อ่อนค่าทำให้สินค้าส่งออกของไทยมีราคาถูกลงในตลาดต่างประเทศ ทำให้มีความต้องการสินค้าไทยมากขึ้น ส่งผลดีต่อบริษัทที่เน้นการส่งออก\n",
      "*   **หุ้นพื้นฐานดีขนาดใหญ่ ที่คาดว่าจะเป็นเป้าเม็ดเงินกองทุนลดหย่อนภาษี (TESG) ไหลเข้าปลายปี:**\n",
      "    *   **เหตุผล:** กองทุน TESG มีนโยบายลงทุนในหุ้นที่มีปัจจัยพื้นฐานดี และมีขนาดใหญ่ ซึ่งเป็นที่สนใจของนักลงทุนที่ต้องการลดหย่อนภาษี ทำให้หุ้นกลุ่มนี้มีความต้องการสูงขึ้นในช่วงปลายปี\n",
      "*   **กลุ่มนิคมอุตสาหกรรม (AMATA และ WHA):**\n",
      "    *   **เหตุผล:** หากแนวโน้มการกีดกันทางการค้าเพิ่มสูงขึ้น บริษัทต่างชาติอาจย้ายฐานการผลิตมายังประเทศไทย ซึ่งนิคมอุตสาหกรรมจะเป็นแหล่งรองรับการลงทุนเหล่านี้\n",
      "*   **กลุ่มเดินเรือ (TTA, PSL, RCL):**\n",
      "    *   **เหตุผล:** หากเศรษฐกิจโลกฟื้นตัว ความต้องการขนส่งสินค้าทางทะเลจะเพิ่มขึ้น ส่งผลดีต่อบริษัทที่ให้บริการขนส่งทางเรือ รวมถึงดัชนีค่าระวางเรือ (BDI Index) มีแนวโน้มปรับตัวขึ้น\n",
      "*   **กลุ่มพลังงาน (PTTEP, BANPU):**\n",
      "    *   **เหตุผล:** นโยบายสนับสนุนพลังงานเก่า (ถ่านหิน) ของ \"ทรัมป์\" หากกลับมาใช้อีกครั้ง จะส่งผลบวกต่อบริษัทที่ทำธุรกิจเกี่ยวกับพลังงานดั้งเดิม\n",
      "*   **กลุ่มโรงพยาบาล (BDMS):**\n",
      "    *   **เหตุผล:** ค่าเงินบาทที่แข็งค่าขึ้น ทำให้ค่ารักษาพยาบาลในประเทศไทยมีราคาถูกลงเมื่อเทียบกับต่างประเทศ ดึงดูดชาวต่างชาติเข้ามารักษาพยาบาลมากขึ้น\n",
      "\n",
      "**หุ้นที่คาดว่าจะเสียประโยชน์:**\n",
      "\n",
      "*   **กลุ่มส่งออก:**\n",
      "    *   **เหตุผล:** นโยบายกีดกันทางการค้าของสหรัฐฯ อาจส่งผลกระทบต่อการส่งออกของไทย ทำให้สินค้าไทยเข้าสู่ตลาดสหรัฐฯ ได้ยากขึ้น\n",
      "*   **กลุ่มชิ้นส่วนอิเล็กทรอนิกส์:**\n",
      "    *   **เหตุผล:** กลุ่มนี้อาจได้รับผลกระทบจากสงครามทางการค้าระหว่างสหรัฐฯ และจีน หากมีการกีดกันทางการค้าเกิดขึ้น\n",
      "*   **กลุ่มพลังงานทดแทน:**\n",
      "    *   **เหตุผล:** นโยบายสนับสนุนพลังงานดั้งเดิมของ \"ทรัมป์\" อาจทำให้การลงทุนในพลังงานทดแทนลดลง\n",
      "*   **กลุ่มเทคโนโลยี:**\n",
      "    *   **เหตุผล:** แนวโน้ม Bond Yield ระยะยาวที่อาจทรงตัวสูงต่อไป อาจส่งผลกระทบต่อการเติบโตของบริษัทเทคโนโลยี\n",
      "\n",
      "**สรุป:**\n",
      "\n",
      "โดยรวมแล้ว หุ้นที่จะได้ประโยชน์ มักจะเป็นหุ้นที่เกี่ยวข้องกับการบริโภคภายในประเทศ, การลงทุนในประเทศ, และการส่งออกไปยังตลาดนอกสหรัฐฯ ในขณะที่หุ้นที่จะเสียประโยชน์ มักจะเป็นหุ้นที่เกี่ยวข้องกับการส่งออกไปยังสหรัฐฯ และหุ้นที่ได้รับผลกระทบจากนโยบายกีดกันทางการค้า\n",
      "\n",
      "**ข้อควรระวัง:** การวิเคราะห์นี้เป็นการคาดการณ์ตามสถานการณ์ปัจจุบันและข้อมูลที่มีอยู่ การลงทุนในตลาดหุ้นมีความเสี่ยง ผู้ลงทุนควรศึกษาข้อมูลและปรึกษาผู้เชี่ยวชาญก่อนตัดสินใจลงทุน\n",
      "\n"
     ]
    }
   ],
   "source": [
    "print(f\"Response: {r_2}\")"
   ]
  }
 ],
 "metadata": {
  "kernelspec": {
   "display_name": ".venv",
   "language": "python",
   "name": "python3"
  },
  "language_info": {
   "codemirror_mode": {
    "name": "ipython",
    "version": 3
   },
   "file_extension": ".py",
   "mimetype": "text/x-python",
   "name": "python",
   "nbconvert_exporter": "python",
   "pygments_lexer": "ipython3",
   "version": "3.12.2"
  }
 },
 "nbformat": 4,
 "nbformat_minor": 5
}
